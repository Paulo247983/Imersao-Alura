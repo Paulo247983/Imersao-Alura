{
  "nbformat": 4,
  "nbformat_minor": 0,
  "metadata": {
    "colab": {
      "provenance": [],
      "include_colab_link": true
    },
    "kernelspec": {
      "name": "python3",
      "display_name": "Python 3"
    },
    "language_info": {
      "name": "python"
    }
  },
  "cells": [
    {
      "cell_type": "markdown",
      "metadata": {
        "id": "view-in-github",
        "colab_type": "text"
      },
      "source": [
        "<a href=\"https://colab.research.google.com/github/Paulo247983/Imersao-Alura/blob/main/Imers%C3%A3o_IA_Alura_%2B_Google_Gemini_Agentes_(Projeto).ipynb\" target=\"_parent\"><img src=\"https://colab.research.google.com/assets/colab-badge.svg\" alt=\"Open In Colab\"/></a>"
      ]
    },
    {
      "cell_type": "code",
      "source": [
        "%pip -q install google-genai"
      ],
      "metadata": {
        "id": "UCCbECexLk_h"
      },
      "execution_count": 1,
      "outputs": []
    },
    {
      "cell_type": "code",
      "source": [
        "# Configura a API Key do Google Gemini\n",
        "\n",
        "import os\n",
        "from google.colab import userdata\n",
        "\n",
        "os.environ[\"GOOGLE_API_KEY\"] = userdata.get('GOOGLE_API_KEY')"
      ],
      "metadata": {
        "id": "NfCqHo1tLk8P"
      },
      "execution_count": 3,
      "outputs": []
    },
    {
      "cell_type": "code",
      "source": [
        "# Configura o cliente da SDK do Gemini\n",
        "\n",
        "from google import genai\n",
        "\n",
        "client = genai.Client()\n",
        "\n",
        "MODEL_ID = \"gemini-2.0-flash\""
      ],
      "metadata": {
        "id": "bV4w0H5TLk5g"
      },
      "execution_count": 4,
      "outputs": []
    },
    {
      "cell_type": "code",
      "source": [
        "# Instalar Framework de agentes do Google ################################################\n",
        "!pip install -q google-adk"
      ],
      "metadata": {
        "id": "a1eRPalxEnj7",
        "colab": {
          "base_uri": "https://localhost:8080/"
        },
        "outputId": "a134352e-998e-4d7d-cf4e-207682d2047a"
      },
      "execution_count": 5,
      "outputs": [
        {
          "output_type": "stream",
          "name": "stdout",
          "text": [
            "\u001b[?25l   \u001b[90m━━━━━━━━━━━━━━━━━━━━━━━━━━━━━━━━━━━━━━━━\u001b[0m \u001b[32m0.0/1.2 MB\u001b[0m \u001b[31m?\u001b[0m eta \u001b[36m-:--:--\u001b[0m\r\u001b[2K   \u001b[91m━━━━━━━━━━━━━━━━━━━━━━━━━━━━━━━━━━━━━━━\u001b[0m\u001b[91m╸\u001b[0m \u001b[32m1.2/1.2 MB\u001b[0m \u001b[31m47.8 MB/s\u001b[0m eta \u001b[36m0:00:01\u001b[0m\r\u001b[2K   \u001b[90m━━━━━━━━━━━━━━━━━━━━━━━━━━━━━━━━━━━━━━━━\u001b[0m \u001b[32m1.2/1.2 MB\u001b[0m \u001b[31m28.2 MB/s\u001b[0m eta \u001b[36m0:00:00\u001b[0m\n",
            "\u001b[?25h\u001b[?25l   \u001b[90m━━━━━━━━━━━━━━━━━━━━━━━━━━━━━━━━━━━━━━━━\u001b[0m \u001b[32m0.0/232.1 kB\u001b[0m \u001b[31m?\u001b[0m eta \u001b[36m-:--:--\u001b[0m\r\u001b[2K   \u001b[90m━━━━━━━━━━━━━━━━━━━━━━━━━━━━━━━━━━━━━━━━\u001b[0m \u001b[32m232.1/232.1 kB\u001b[0m \u001b[31m16.1 MB/s\u001b[0m eta \u001b[36m0:00:00\u001b[0m\n",
            "\u001b[?25h\u001b[?25l   \u001b[90m━━━━━━━━━━━━━━━━━━━━━━━━━━━━━━━━━━━━━━━━\u001b[0m \u001b[32m0.0/95.2 kB\u001b[0m \u001b[31m?\u001b[0m eta \u001b[36m-:--:--\u001b[0m\r\u001b[2K   \u001b[90m━━━━━━━━━━━━━━━━━━━━━━━━━━━━━━━━━━━━━━━━\u001b[0m \u001b[32m95.2/95.2 kB\u001b[0m \u001b[31m7.3 MB/s\u001b[0m eta \u001b[36m0:00:00\u001b[0m\n",
            "\u001b[?25h\u001b[?25l   \u001b[90m━━━━━━━━━━━━━━━━━━━━━━━━━━━━━━━━━━━━━━━━\u001b[0m \u001b[32m0.0/217.1 kB\u001b[0m \u001b[31m?\u001b[0m eta \u001b[36m-:--:--\u001b[0m\r\u001b[2K   \u001b[90m━━━━━━━━━━━━━━━━━━━━━━━━━━━━━━━━━━━━━━━━\u001b[0m \u001b[32m217.1/217.1 kB\u001b[0m \u001b[31m14.7 MB/s\u001b[0m eta \u001b[36m0:00:00\u001b[0m\n",
            "\u001b[?25h\u001b[?25l   \u001b[90m━━━━━━━━━━━━━━━━━━━━━━━━━━━━━━━━━━━━━━━━\u001b[0m \u001b[32m0.0/334.1 kB\u001b[0m \u001b[31m?\u001b[0m eta \u001b[36m-:--:--\u001b[0m\r\u001b[2K   \u001b[90m━━━━━━━━━━━━━━━━━━━━━━━━━━━━━━━━━━━━━━━━\u001b[0m \u001b[32m334.1/334.1 kB\u001b[0m \u001b[31m22.1 MB/s\u001b[0m eta \u001b[36m0:00:00\u001b[0m\n",
            "\u001b[2K   \u001b[90m━━━━━━━━━━━━━━━━━━━━━━━━━━━━━━━━━━━━━━━━\u001b[0m \u001b[32m125.1/125.1 kB\u001b[0m \u001b[31m8.5 MB/s\u001b[0m eta \u001b[36m0:00:00\u001b[0m\n",
            "\u001b[2K   \u001b[90m━━━━━━━━━━━━━━━━━━━━━━━━━━━━━━━━━━━━━━━━\u001b[0m \u001b[32m65.8/65.8 kB\u001b[0m \u001b[31m3.2 MB/s\u001b[0m eta \u001b[36m0:00:00\u001b[0m\n",
            "\u001b[2K   \u001b[90m━━━━━━━━━━━━━━━━━━━━━━━━━━━━━━━━━━━━━━━━\u001b[0m \u001b[32m119.0/119.0 kB\u001b[0m \u001b[31m8.4 MB/s\u001b[0m eta \u001b[36m0:00:00\u001b[0m\n",
            "\u001b[2K   \u001b[90m━━━━━━━━━━━━━━━━━━━━━━━━━━━━━━━━━━━━━━━━\u001b[0m \u001b[32m194.9/194.9 kB\u001b[0m \u001b[31m13.7 MB/s\u001b[0m eta \u001b[36m0:00:00\u001b[0m\n",
            "\u001b[2K   \u001b[90m━━━━━━━━━━━━━━━━━━━━━━━━━━━━━━━━━━━━━━━━\u001b[0m \u001b[32m62.5/62.5 kB\u001b[0m \u001b[31m4.8 MB/s\u001b[0m eta \u001b[36m0:00:00\u001b[0m\n",
            "\u001b[2K   \u001b[90m━━━━━━━━━━━━━━━━━━━━━━━━━━━━━━━━━━━━━━━━\u001b[0m \u001b[32m103.3/103.3 kB\u001b[0m \u001b[31m6.6 MB/s\u001b[0m eta \u001b[36m0:00:00\u001b[0m\n",
            "\u001b[2K   \u001b[90m━━━━━━━━━━━━━━━━━━━━━━━━━━━━━━━━━━━━━━━━\u001b[0m \u001b[32m44.4/44.4 kB\u001b[0m \u001b[31m3.1 MB/s\u001b[0m eta \u001b[36m0:00:00\u001b[0m\n",
            "\u001b[2K   \u001b[90m━━━━━━━━━━━━━━━━━━━━━━━━━━━━━━━━━━━━━━━━\u001b[0m \u001b[32m72.0/72.0 kB\u001b[0m \u001b[31m4.7 MB/s\u001b[0m eta \u001b[36m0:00:00\u001b[0m\n",
            "\u001b[?25h"
          ]
        }
      ]
    },
    {
      "cell_type": "code",
      "execution_count": 23,
      "metadata": {
        "id": "aePV2bdfDeoW"
      },
      "outputs": [],
      "source": [
        "# Importações do ADK e outras\n",
        "from google.adk.agents import Agent\n",
        "from google.adk.runners import Runner\n",
        "from google.adk.sessions import InMemorySessionService\n",
        "from google.adk.tools import google_search\n",
        "from google.genai import types as adk_types # <<< ESTA É A IMPORTAÇÃO CRUCIAL PARA ADK.TYPES\n",
        "from datetime import date\n",
        "import textwrap # Para formatar melhor a saída de texto\n",
        "from IPython.display import display, Markdown # Para exibir texto formatado no Colab\n",
        "import warnings\n",
        "\n",
        "warnings.filterwarnings(\"ignore\")\n",
        "\n",
        "MODEL_ID = \"gemini-2.0-flash\" # Modelo mais recente e capaz"
      ]
    },
    {
      "cell_type": "code",
      "source": [
        "# Função auxiliar que envia uma mensagem para um agente via Runner e retorna a resposta final\n",
        "def call_agent(agent: Agent, message_text: str) -> str:\n",
        "    session_service = InMemorySessionService()\n",
        "    session = session_service.create_session(app_name=agent.name, user_id=\"alura_user\", session_id=\"samoc_session\")\n",
        "    runner = Runner(agent=agent, app_name=agent.name, session_service=session_service)\n",
        "    # Aqui usamos o adk_types que deve estar definido agora\n",
        "    content = adk_types.Content(role=\"user\", parts=[adk_types.Part(text=message_text)])\n",
        "\n",
        "    final_response = \"\"\n",
        "    # Itera assincronamente pelos eventos retornados durante a execução do agente\n",
        "    for event in runner.run(user_id=\"alura_user\", session_id=\"samoc_session\", new_message=content):\n",
        "        if event.is_final_response():\n",
        "          for part in event.content.parts:\n",
        "            if part.text is not None:\n",
        "              final_response += part.text\n",
        "              final_response += \"\\n\"\n",
        "    return final_response\n",
        "\n",
        "# Função auxiliar para exibir texto formatado em Markdown no Colab\n",
        "def to_markdown(text):\n",
        "  text = text.replace('•', '  *')\n",
        "  return Markdown(textwrap.indent(text, '> ', predicate=lambda _: True))"
      ],
      "metadata": {
        "id": "_xP4lWhsS5ko"
      },
      "execution_count": 20,
      "outputs": []
    },
    {
      "cell_type": "code",
      "source": [
        "# Função auxiliar para exibir texto formatado em Markdown no Colab\n",
        "def to_markdown(text):\n",
        "  text = text.replace('•', '  *')\n",
        "  return Markdown(textwrap.indent(text, '> ', predicate=lambda _: True))"
      ],
      "metadata": {
        "id": "8dosiodaxfFR"
      },
      "execution_count": 8,
      "outputs": []
    },
    {
      "cell_type": "code",
      "source": [
        "############################################################\n",
        "# --- Agente 1: Agente Estrategista de Configuração (AEC) --- #\n",
        "############################################################\n",
        "def agente_estrategista_configuracao(ideia_foco_inicial: str, data_de_hoje: str):\n",
        "    # Define a instância do agente com o nome 'estrategista_config'\n",
        "    estrategista_config = Agent(\n",
        "        name=\"agente_estrategista_configuracao\",\n",
        "        model=MODEL_ID,\n",
        "        instruction=f\"\"\"\n",
        "        Você é o Agente Estrategista de Configuração (AEC) do Sistema Alura de Monitoramento e Otimização de Conteúdo (SAMOC).\n",
        "        A sua tarefa é ajudar o usuário a definir o 'Foco do Monitoramento' e 'Parâmetros Adicionais'.\n",
        "        O usuário fornecerá uma ideia inicial para o foco.\n",
        "        Use a ferramenta google_search para:\n",
        "        1. Verificar a relevância atual da ideia inicial do usuário (ex: há discussões recentes, notícias, volume de busca?).\n",
        "        2. Sugerir 2-3 termos ou tópicos relacionados que poderiam refinar ou complementar o foco inicial, baseando-se no que é popular ou emergente.\n",
        "        3. Apresente um breve resumo da relevância e as sugestões.\n",
        "        4. Com base nisso, formule uma proposta concisa para o 'Foco do Monitoramento' e peça ao usuário para confirmar ou refinar quaisquer 'Parâmetros Adicionais' (como período específico ou tipos de conteúdo).\n",
        "\n",
        "        Exemplo de saída esperada:\n",
        "        \"Com base na sua ideia de 'cursos de Python', vejo que continua sendo um tópico altamente relevante com muitas buscas recentes por 'Python para análise de dados' e 'Web scraping com Python'.\n",
        "        Sugestões para refinar o foco:\n",
        "        1. Focar em 'Python para análise de dados e IA'.\n",
        "        2. Monitorar especificamente 'novos frameworks Python para web'.\n",
        "\n",
        "        Proposta de Foco do Monitoramento: [Sua proposta aqui baseada na análise]\n",
        "        Quais seriam os Parâmetros Adicionais (ex: 'últimos 30 dias', 'comentários em blogs e fóruns')?\"\n",
        "\n",
        "        Data de hoje para referência de atualidade: {data_de_hoje}.\n",
        "        \"\"\",\n",
        "        description=\"Agente que auxilia estrategicamente o usuário a definir o foco e a configuração do monitoramento usando busca.\",\n",
        "        tools=[google_search]\n",
        "    )\n",
        "\n",
        "    prompt_configuracao = f\"Ideia inicial do usuário para o foco do monitoramento: '{ideia_foco_inicial}'\\nPor favor, ajude a refinar e propor a configuração.\"\n",
        "\n",
        "    # CORREÇÃO: Usa a variável correta 'estrategista_config' ao chamar call_agent\n",
        "    configuracao_sugerida_pelo_agente = call_agent(estrategista_config, prompt_configuracao)\n",
        "\n",
        "    # Exibe a sugestão do agente e pede confirmação/refinamento final ao usuário\n",
        "    print(\"\\n--- ⚙️ Sugestão do Agente Estrategista de Configuração (AEC) ---\")\n",
        "    display(to_markdown(configuracao_sugerida_pelo_agente))\n",
        "\n",
        "    foco_final = input(\"\\nConfirme ou ajuste o 'Foco do Monitoramento' proposto acima: \")\n",
        "    parametros_finais = input(\"Confirme ou defina os 'Parâmetros Adicionais': \")\n",
        "\n",
        "    if not foco_final.strip(): # Adicionado .strip()\n",
        "        # Retorna None para configuração se o foco não for definido, e uma mensagem de erro.\n",
        "        return None, \"Foco do monitoramento não definido pelo usuário após sugestão do AEC.\"\n",
        "\n",
        "    configuracao_final_usuario = f\"Foco do Monitoramento: {foco_final}\\nParâmetros Adicionais: {parametros_finais}\"\n",
        "    print(f\"\\nConfiguração final definida pelo usuário:\\n{configuracao_final_usuario}\")\n",
        "    # Retorna a configuração final e None para o erro (indicando sucesso nesta etapa).\n",
        "    return configuracao_final_usuario, None"
      ],
      "metadata": {
        "id": "o8bqIfi_DyH8"
      },
      "execution_count": 37,
      "outputs": []
    },
    {
      "cell_type": "code",
      "source": [
        "###################################################################\n",
        "# --- Agente 2: Agente Coletor de Dados de Conteúdo (ACDC) --- #\n",
        "###################################################################\n",
        "def agente_coletor_dados(configuracao_monitoramento: str, data_de_hoje: str):\n",
        "    coletor = Agent(\n",
        "        name=\"agente_coletor_dados\",\n",
        "        model=MODEL_ID,\n",
        "        instruction=f\"\"\"\n",
        "        Você é o Agente Coletor de Dados de Conteúdo (ACDC) da Alura.\n",
        "        Sua tarefa é, com base na configuração de monitoramento fornecida, usar a ferramenta de busca do Google (google_search)\n",
        "        para simular a coleta de dados relevantes sobre o conteúdo da Alura.\n",
        "        Busque por menções públicas, discussões em fóruns (se indexados), notícias, ou posts em redes sociais (se publicamente visíveis e indexados)\n",
        "        relacionados ao foco do monitoramento.\n",
        "        Colete informações como:\n",
        "        - Títulos de conteúdo da Alura mencionados.\n",
        "        - Resumo de discussões ou comentários encontrados.\n",
        "        - Possíveis indicadores de engajamento (ex: \"muitos comentários em...\", \"artigo bem compartilhado...\").\n",
        "        - Sentimento geral (se puder ser inferido de forma básica).\n",
        "        - Fontes das informações (URLs).\n",
        "        Retorne um resumo dos dados coletados, no máximo 5-7 pontos chave.\n",
        "        Data de hoje para referência: {data_de_hoje}.\n",
        "        \"\"\",\n",
        "        description=\"Agente que simula a coleta de dados de engajamento e menções ao conteúdo Alura.\",\n",
        "        tools=[google_search]\n",
        "    )\n",
        "\n",
        "    prompt_coleta = f\"Configuração de Monitoramento:\\n{configuracao_monitoramento}\\n\\nPor favor, colete os dados conforme instruído.\"\n",
        "    dados_coletados = call_agent(coletor, prompt_coleta)\n",
        "    return dados_coletados"
      ],
      "metadata": {
        "id": "y3VO1uo5_ghO"
      },
      "execution_count": 32,
      "outputs": []
    },
    {
      "cell_type": "code",
      "source": [
        "#########################################################################\n",
        "# --- Agente 3: Agente Analista de Insights e Tendências (AAIT) --- #\n",
        "#########################################################################\n",
        "def agente_analista_insights(dados_coletados: str, configuracao_monitoramento: str):\n",
        "    analista = Agent(\n",
        "        name=\"agente_analista_insights\",\n",
        "        model=MODEL_ID,\n",
        "        instruction=f\"\"\"\n",
        "        Você é o Agente Analista de Insights e Tendências (AAIT) da Alura.\n",
        "        Com base nos dados coletados pelo ACDC e na configuração original do monitoramento, sua tarefa é:\n",
        "        1. Analisar os dados para identificar padrões, pontos de destaque (positivos ou negativos), e possíveis tendências.\n",
        "        2. Identificar anomalias ou informações críticas (ex: um grande número de reclamações sobre um aspecto específico, ou um conteúdo inesperadamente viral).\n",
        "        3. Inferir insights acionáveis (ex: \"O tópico X está gerando muito interesse\", \"O conteúdo Y parece ter um problema de clareza no ponto Z\", \"Há uma oportunidade para um novo conteúdo sobre W\").\n",
        "        4. Priorizar os 3-4 insights ou decisões mais importantes para a Alura.\n",
        "        Seja conciso e direto ao ponto.\n",
        "        Configuração original do monitoramento para contexto:\n",
        "        {configuracao_monitoramento}\n",
        "        \"\"\",\n",
        "        description=\"Agente que analisa dados de conteúdo e extrai insights e tendências para a Alura.\",\n",
        "        tools=[] # Pode usar google_search para validar/aprofundar alguma tendência se necessário.\n",
        "    )\n",
        "\n",
        "    prompt_analise = f\"Dados Coletados pelo ACDC:\\n{dados_coletados}\\n\\nPor favor, analise estes dados e forneça os insights e decisões conforme instruído.\"\n",
        "    insights_e_decisoes = call_agent(analista, prompt_analise)\n",
        "    return insights_e_decisoes"
      ],
      "metadata": {
        "id": "uOqlg2TRLVh1"
      },
      "execution_count": 33,
      "outputs": []
    },
    {
      "cell_type": "code",
      "source": [
        "#################################################################################\n",
        "# --- Agente 4: Agente Recomendador de Ações Estratégicas (ARAE) --- #\n",
        "#################################################################################\n",
        "def agente_recomendador_acoes(insights_e_decisoes: str, configuracao_monitoramento: str):\n",
        "    recomendador = Agent(\n",
        "        name=\"agente_recomendador_acoes\",\n",
        "        model=MODEL_ID,\n",
        "        instruction=f\"\"\"\n",
        "        Você é o Agente Recomendador de Ações Estratégicas (ARAE) da Alura.\n",
        "        Com base nos insights e decisões fornecidos pelo AAIT, sua tarefa é:\n",
        "        1. Formular 2-3 recomendações de ações estratégicas claras, específicas e acionáveis para as equipes de Conteúdo e Marketing da Alura.\n",
        "        2. As recomendações podem incluir:\n",
        "            - Sugestões de criação ou atualização de conteúdo.\n",
        "            - Ideias para posts em redes sociais ou blog.\n",
        "            - Alertas para revisão de material específico.\n",
        "            - Oportunidades de promoção de conteúdo existente.\n",
        "        3. Justifique brevemente cada recomendação com base nos insights recebidos.\n",
        "        Lembre-se que o objetivo é otimizar o conteúdo da Alura.\n",
        "        Configuração original do monitoramento para contexto:\n",
        "        {configuracao_monitoramento}\n",
        "        \"\"\",\n",
        "        description=\"Agente que propõe ações estratégicas para otimizar o conteúdo da Alura.\"\n",
        "    )\n",
        "\n",
        "    prompt_recomendacao = f\"Insights e Decisões do AAIT:\\n{insights_e_decisoes}\\n\\nPor favor, formule as recomendações de ações estratégicas.\"\n",
        "    recomendacoes = call_agent(recomendador, prompt_recomendacao)\n",
        "    return recomendacoes"
      ],
      "metadata": {
        "id": "_aTb1SdkLeT6"
      },
      "execution_count": 12,
      "outputs": []
    },
    {
      "cell_type": "code",
      "source": [
        "# --- Fluxo Principal do Sistema SAMOC ---\n",
        "def rodar_samoc():\n",
        "    data_hoje = date.today().strftime(\"%d/%m/%Y\")\n",
        "    # Não imprima a mensagem inicial aqui, faremos isso fora do loop se necessário\n",
        "    # print(f\"🚀 Iniciando o Sistema Alura de Monitoramento e Otimização de Conteúdo (SAMOC) - {data_hoje} 🚀\")\n",
        "    # print(\"=\"*70)\n",
        "\n",
        "    # Agente 1: Estrategista de Configuração\n",
        "    print(\"--- 🚀 Agente Estrategista de Configuração (AEC) ---\")\n",
        "    ideia_inicial_usuario = input(\"Olá! Sou o AEC. Qual sua ideia inicial para o foco do monitoramento de conteúdo hoje? \\n(Ex: 'cursos de Python', 'IA Generativa', 'engajamento no Instagram'): \")\n",
        "\n",
        "    if not ideia_inicial_usuario.strip():\n",
        "        print(\"\\n❌ Ideia inicial para o foco não fornecida. Encerrando esta execução.\")\n",
        "        return False # Indica que esta execução falhou na configuração\n",
        "\n",
        "    configuracao, erro_aec = agente_estrategista_configuracao(ideia_inicial_usuario, data_hoje)\n",
        "\n",
        "    if erro_aec:\n",
        "        print(f\"\\n❌ Erro no AEC: {erro_aec}. Encerrando esta execução.\")\n",
        "        return False # Indica falha\n",
        "\n",
        "    print(\"=\"*70)\n",
        "\n",
        "    # Agente 2: Coleta de Dados\n",
        "    print(\"\\n--- 📊 Agente Coletor de Dados de Conteúdo (ACDC) em ação... ---\")\n",
        "    dados_brutos = agente_coletor_dados(configuracao, data_hoje)\n",
        "    if not dados_brutos.strip():\n",
        "        print(\"\\n❌ ACDC não retornou dados. Verifique a configuração ou a busca. Encerrando esta execução.\")\n",
        "        return False # Indica falha\n",
        "    display(to_markdown(f\"**Dados Brutos Coletados pelo ACDC:**\\n{dados_brutos}\"))\n",
        "    print(\"=\"*70)\n",
        "\n",
        "    # Agente 3: Análise de Insights\n",
        "    print(\"\\n--- 💡 Agente Analista de Insights e Tendências (AAIT) em ação... ---\")\n",
        "    analise_insights = agente_analista_insights(dados_brutos, configuracao)\n",
        "    if not analise_insights.strip():\n",
        "        print(\"\\n❌ AAIT não retornou análise. Verifique os dados de entrada. Encerrando esta execução.\")\n",
        "        return False # Indica falha\n",
        "    display(to_markdown(f\"**Análise e Insights do AAIT:**\\n{analise_insights}\"))\n",
        "    print(\"=\"*70)\n",
        "\n",
        "    # Agente 4: Recomendação de Ações\n",
        "    print(\"\\n--- 🎯 Agente Recomendador de Ações Estratégicas (ARAE) em ação... ---\")\n",
        "    acoes_recomendadas = agente_recomendador_acoes(analise_insights, configuracao)\n",
        "    if not acoes_recomendadas.strip():\n",
        "        print(\"\\n❌ ARAE não retornou recomendações. Verifique a análise de entrada. Encerrando esta execução.\")\n",
        "        return False # Indica falha\n",
        "    display(to_markdown(f\"**Ações Estratégicas Recomendadas pelo ARAE:**\\n{acoes_recomendadas}\"))\n",
        "    print(\"=\"*70)\n",
        "\n",
        "    print(\"\\n🎉 Processo SAMOC concluído! 🎉\")\n",
        "    return True # Indica que esta execução foi bem-sucedida\n",
        "\n",
        "# Executar o sistema\n",
        "if __name__ == \"__main__\":\n",
        "    primeira_execucao = True\n",
        "    while True:\n",
        "        if primeira_execucao:\n",
        "            data_hoje_inicial = date.today().strftime(\"%d/%m/%Y\")\n",
        "            print(f\"🚀 Bem-vindo ao Sistema Alura de Monitoramento e Otimização de Conteúdo (SAMOC) - {data_hoje_inicial} 🚀\")\n",
        "            print(\"=\"*70)\n",
        "            primeira_execucao = False\n",
        "        else:\n",
        "            print(\"\\n🔄 Reiniciando o processo SAMOC... 🔄\")\n",
        "            print(\"=\"*70)\n",
        "\n",
        "        sucesso_execucao = rodar_samoc() # Chama a função principal\n",
        "\n",
        "        if not sucesso_execucao:\n",
        "            print(\"\\nA execução anterior encontrou um problema.\")\n",
        "\n",
        "        print(\"-\" * 70) # Separador entre execuções\n",
        "        resposta = input(\"Deseja rodar o processo SAMOC novamente? (s/n): \").strip().lower()\n",
        "        if resposta != 's':\n",
        "            print(\"\\n👋 Encerrando o sistema SAMOC. Até logo!\")\n",
        "            break"
      ],
      "metadata": {
        "colab": {
          "base_uri": "https://localhost:8080/",
          "height": 1000
        },
        "id": "6xzI6LKzxxnN",
        "outputId": "0ed026dc-7c8b-4e15-d6e8-94daa7e992c5"
      },
      "execution_count": null,
      "outputs": [
        {
          "output_type": "stream",
          "name": "stdout",
          "text": [
            "🚀 Bem-vindo ao Sistema Alura de Monitoramento e Otimização de Conteúdo (SAMOC) - 18/05/2025 🚀\n",
            "======================================================================\n",
            "--- 🚀 Agente Estrategista de Configuração (AEC) ---\n",
            "Olá! Sou o AEC. Qual sua ideia inicial para o foco do monitoramento de conteúdo hoje? \n",
            "(Ex: 'cursos de Python', 'IA Generativa', 'engajamento no Instagram'): engajamento no Instagram\n",
            "\n",
            "--- ⚙️ Sugestão do Agente Estrategista de Configuração (AEC) ---\n"
          ]
        },
        {
          "output_type": "display_data",
          "data": {
            "text/plain": [
              "<IPython.core.display.Markdown object>"
            ],
            "text/markdown": "> Com base na sua ideia de \"engajamento no Instagram\", vejo que continua sendo um tópico relevante, especialmente no contexto de marketing digital e estratégias de mídia social. Há um interesse contínuo em métricas de engajamento, algoritmos do Instagram e como aumentar a interação com o público.\n> \n> Sugestões para refinar o foco:\n> \n> 1.  **Focar em \"Métricas de Engajamento no Instagram para E-commerce\":** Monitorar como diferentes tipos de conteúdo (vídeos, stories, posts) impactam as vendas e o tráfego para lojas online.\n> 2.  **Acompanhar \"Estratégias de Engajamento com Reels do Instagram\":** Explorar as tendências e táticas mais recentes para aumentar o alcance e a interação através de vídeos curtos.\n> 3.  **Monitorar \"Engajamento em Posts Colaborativos no Instagram\":** Observar como marcas e influenciadores estão usando posts colaborativos para expandir seu alcance e engajamento.\n> \n> \n> Com base nas informações encontradas, o \"engajamento no Instagram\" continua a ser um tópico relevante em 2025, com foco em métricas específicas, como tempo de exibição, engajamento imediato e interações pós-exibição. Os Reels do Instagram e as postagens colaborativas surgem como estratégias eficazes para aumentar o alcance e a interação. As tendências apontam para a importância de vídeos curtos, conteúdo autêntico e o uso de ferramentas interativas como enquetes e perguntas nos Stories. O CEO do Instagram destacou os compartilhamentos como a métrica mais importante, indicando que o conteúdo valioso o suficiente para ser compartilhado é priorizado.\n> \n> Proposta de Foco do Monitoramento: **\"Estratégias de Engajamento no Instagram em 2025: Análise de Reels, Posts Colaborativos e Métricas de Compartilhamento\"**\n> \n> Quais seriam os Parâmetros Adicionais (ex: 'últimos 30 dias', 'comentários em blogs e fóruns', segmentos de mercado específicos como e-commerce)?\n> \n"
          },
          "metadata": {}
        },
        {
          "output_type": "stream",
          "name": "stdout",
          "text": [
            "\n",
            "Confirme ou ajuste o 'Foco do Monitoramento' proposto acima: comentários em blogs e fóruns\n",
            "Confirme ou defina os 'Parâmetros Adicionais': últimos 30 dias\n",
            "\n",
            "Configuração final definida pelo usuário:\n",
            "Foco do Monitoramento: comentários em blogs e fóruns\n",
            "Parâmetros Adicionais: últimos 30 dias\n",
            "======================================================================\n",
            "\n",
            "--- 📊 Agente Coletor de Dados de Conteúdo (ACDC) em ação... ---\n"
          ]
        },
        {
          "output_type": "display_data",
          "data": {
            "text/plain": [
              "<IPython.core.display.Markdown object>"
            ],
            "text/markdown": "> **Dados Brutos Coletados pelo ACDC:**\n> Para realizar a coleta de dados sobre comentários em blogs e fóruns relacionados à Alura nos últimos 30 dias, vou utilizar a ferramenta de busca do Google para identificar menções, discussões e o sentimento geral associado a esses comentários.\n> \n> \n> Com base nas buscas realizadas, aqui estão os principais pontos sobre comentários e discussões recentes relacionados à Alura em blogs e fóruns:\n> \n> 1.  **Sentimento Geralmente Positivo:** Muitos usuários expressam opiniões positivas sobre a Alura, destacando a qualidade do conteúdo, a estrutura dos cursos e o apoio da comunidade.\n> 2.  **Comunidade e Fóruns Ativos:** A Alura possui fóruns onde alunos podem tirar dúvidas e discutir tópicos. No entanto, há sugestões para melhorar a política de encerramento de tópicos não solucionados.\n> 3.  **Comparação com Outras Plataformas:** Alguns usuários comparam a Alura com plataformas como Udemy, mencionando que, embora a Alura possa ser mais cara, oferece conteúdo mais \"mastigado\" e uma rota de aprendizado estruturada.\n> 4.  **Certificados:** Há discussões sobre o valor dos certificados da Alura no mercado de trabalho, com alguns usuários considerando-os como um \"plus\" e outros achando que não fazem diferença significativa.\n> 5.  **Cursos Gratuitos e Imersões:** A Alura, em parceria com o Google, oferece cursos gratuitos e imersões, o que é visto como uma oportunidade positiva para quem está começando.\n> 6.  **Qualidade do Conteúdo:** A qualidade do conteúdo é geralmente elogiada, com ênfase na didática e na variedade de cursos disponíveis. No entanto, alguns mencionam que o conteúdo pode não ser tão aprofundado quanto o encontrado em outras fontes.\n> 7.  **Alura Start:** Menção ao Alura Start, plataforma dedicada a jovens e adolescentes no mundo da tecnologia.\n> \n> Fontes: Resultados da busca no Google.\n"
          },
          "metadata": {}
        },
        {
          "output_type": "stream",
          "name": "stdout",
          "text": [
            "======================================================================\n",
            "\n",
            "--- 💡 Agente Analista de Insights e Tendências (AAIT) em ação... ---\n"
          ]
        },
        {
          "output_type": "display_data",
          "data": {
            "text/plain": [
              "<IPython.core.display.Markdown object>"
            ],
            "text/markdown": "> **Análise e Insights do AAIT:**\n> Com base nos dados coletados sobre os comentários em blogs e fóruns relacionados à Alura nos últimos 30 dias, aqui estão os insights e decisões priorizadas:\n> \n> 1.  **Fortalecer a percepção de valor dos certificados:** Embora o sentimento geral seja positivo, a discussão sobre o valor dos certificados indica uma área de oportunidade. A Alura pode investir em fortalecer parcerias com empresas, destacar histórias de sucesso de alunos que conseguiram empregos com os certificados, e enfatizar as habilidades práticas adquiridas nos cursos.\n> \n> 2.  **Aprimorar a gestão de fóruns:** A comunidade ativa é um ponto forte, mas a política de encerramento de tópicos não solucionados precisa ser revisada. É crucial garantir que todas as dúvidas sejam atendidas e que os alunos se sintam suportados. Implementar um sistema de \"melhor resposta\" ou designar \"embaixadores\" da comunidade pode ser útil.\n> \n> 3.  **Comunicar o diferencial do conteúdo \"estruturado\":** A comparação com outras plataformas como Udemy revela que a Alura é vista como tendo um conteúdo mais \"mastigado\" e estruturado. Essa é uma vantagem competitiva a ser explorada em campanhas de marketing, destacando a facilidade de aprendizado e a clareza da rota de estudos oferecida.\n> \n> 4. **Investir em conteúdo mais aprofundado:** Embora a didática seja elogiada, a percepção de que o conteúdo pode não ser tão aprofundado quanto em outras fontes sugere uma oportunidade de melhoria. A Alura pode considerar a criação de cursos mais avançados ou trilhas de especialização para atender às necessidades de alunos que buscam um conhecimento mais profundo em determinadas áreas.\n> \n"
          },
          "metadata": {}
        },
        {
          "output_type": "stream",
          "name": "stdout",
          "text": [
            "======================================================================\n",
            "\n",
            "--- 🎯 Agente Recomendador de Ações Estratégicas (ARAE) em ação... ---\n"
          ]
        },
        {
          "output_type": "display_data",
          "data": {
            "text/plain": [
              "<IPython.core.display.Markdown object>"
            ],
            "text/markdown": "> **Ações Estratégicas Recomendadas pelo ARAE:**\n> ## Recomendações de Ações Estratégicas para Alura:\n> \n> Com base nos insights fornecidos pelo AAIT, aqui estão as recomendações de ações estratégicas para as equipes de Conteúdo e Marketing da Alura:\n> \n> 1.  **Conteúdo: Criar uma série de posts no blog e redes sociais com \"Histórias de Sucesso Alura\".**\n>     *   *Justificativa:* O insight sobre a necessidade de fortalecer a percepção de valor dos certificados indica que mostrar resultados concretos é fundamental. As histórias de sucesso de alunos que conseguiram empregos ou promoções após a Alura servem como prova social poderosa e reforçam o valor do aprendizado na plataforma.\n>     *   *Ações:*\n>         *   **Marketing:** Desenvolver um template visual atraente para as histórias de sucesso, garantindo a identidade visual da Alura.\n>         *   **Conteúdo:** Entrevistar alunos que tiveram sucesso e criar posts envolventes, destacando o papel dos cursos e certificados da Alura em suas conquistas. Promover esses conteúdos nas redes sociais e blog da Alura.\n> \n> 2.  **Conteúdo: Atualizar a documentação e as políticas dos fóruns, criando um fluxo de resolução de dúvidas mais claro e eficiente.**\n>     *   *Justificativa:* O insight sobre a gestão de fóruns indica que a experiência do usuário pode ser aprimorada. Um fluxo de resolução de dúvidas mais eficiente e transparente, com um sistema de acompanhamento e feedback, pode aumentar a satisfação dos alunos e fortalecer a comunidade.\n>     *   *Ações:*\n>         *   **Conteúdo:** Criar um guia claro para os moderadores dos fóruns, detalhando os critérios para encerramento de tópicos e as alternativas para garantir que todas as dúvidas sejam atendidas.\n>         *   **Implementar um sistema de \"melhor resposta\"** onde os próprios alunos podem indicar a solução mais útil para suas dúvidas.\n>         *   **Marketing:** Divulgar as novas políticas e o fluxo de resolução de dúvidas nos canais de comunicação da Alura, reforçando o compromisso da plataforma com o suporte aos alunos.\n> \n> 3.  **Marketing: Desenvolver uma campanha de marketing destacando o diferencial do conteúdo \"estruturado\" da Alura.**\n>     *   *Justificativa:* O insight sobre a comparação com outras plataformas como Udemy revela que a Alura é vista como tendo um conteúdo mais \"mastigado\" e estruturado, uma vantagem competitiva importante. Uma campanha de marketing focada nesse diferencial pode atrair novos alunos que buscam uma experiência de aprendizado mais organizada e direcionada.\n>     *   *Ações:*\n>         *   **Marketing:** Criar anúncios e posts em redes sociais que enfatizem a clareza da rota de estudos oferecida pela Alura e a facilidade de aprendizado proporcionada pelo conteúdo estruturado.\n>         *   **Conteúdo:** Produzir vídeos curtos com depoimentos de alunos que elogiam a organização do conteúdo da Alura.\n>         *   **Marketing:** Comparar diretamente a experiência de aprendizado na Alura com a de outras plataformas, destacando os benefícios do conteúdo estruturado.\n> \n> 4. **Conteúdo: Criar trilhas de especialização ou cursos mais avançados em áreas de alta demanda.**\n>     *   *Justificativa:* O insight sobre a necessidade de conteúdo mais aprofundado sugere que a Alura pode atrair alunos que buscam um conhecimento mais especializado. Trilhas de especialização ou cursos avançados podem complementar o conteúdo existente e atender a essa demanda.\n>     *   *Ações:*\n>         *   **Conteúdo:** Realizar uma pesquisa para identificar as áreas de maior interesse dos alunos e as habilidades mais valorizadas pelo mercado.\n>         *   **Conteúdo:** Desenvolver trilhas de especialização ou cursos avançados nessas áreas, com conteúdo mais técnico e aprofundado.\n>         *   **Marketing:** Promover as novas trilhas de especialização ou cursos avançados para os alunos que já possuem conhecimento básico nas áreas relacionadas, incentivando-os a aprofundar seus conhecimentos.\n> \n"
          },
          "metadata": {}
        },
        {
          "output_type": "stream",
          "name": "stdout",
          "text": [
            "======================================================================\n",
            "\n",
            "🎉 Processo SAMOC concluído! 🎉\n",
            "----------------------------------------------------------------------\n",
            "Deseja rodar o processo SAMOC novamente? (s/n): s\n",
            "\n",
            "🔄 Reiniciando o processo SAMOC... 🔄\n",
            "======================================================================\n",
            "--- 🚀 Agente Estrategista de Configuração (AEC) ---\n",
            "Olá! Sou o AEC. Qual sua ideia inicial para o foco do monitoramento de conteúdo hoje? \n",
            "(Ex: 'cursos de Python', 'IA Generativa', 'engajamento no Instagram'): curso de Python\n",
            "\n",
            "--- ⚙️ Sugestão do Agente Estrategista de Configuração (AEC) ---\n"
          ]
        },
        {
          "output_type": "display_data",
          "data": {
            "text/plain": [
              "<IPython.core.display.Markdown object>"
            ],
            "text/markdown": "> Com base na sua ideia de 'curso de Python', vejo que continua sendo um tópico altamente relevante, com muitas buscas recentes por 'Python para análise de dados', 'Python para machine learning' e 'Python para desenvolvimento web'.\n> \n> Sugestões para refinar o foco:\n> \n> 1.  **Focar em 'Python para análise de dados e IA'**: Este é um campo em crescimento, com alta demanda por profissionais qualificados.\n> 2.  **Monitorar especificamente 'cursos online de Python com foco em projetos práticos'**: Isso pode ajudar a identificar as tendências de aprendizado e as habilidades mais valorizadas no mercado.\n> 3.  **Acompanhar 'novos frameworks Python para web'**: O ecossistema Python está sempre evoluindo, e novos frameworks podem oferecer oportunidades interessantes.\n> \n> \n> Com base na sua ideia de 'curso de Python', vejo que continua sendo um tópico altamente relevante com muitas buscas recentes por 'Python para análise de dados', 'Python para machine learning', 'Python para desenvolvimento web', 'cursos online de Python' e 'frameworks python web'.\n> \n> Sugestões para refinar o foco:\n> \n> 1.  **Focar em 'Python para análise de dados e IA'**: Este é um campo em crescimento, com alta demanda por profissionais qualificados.\n> 2.  **Monitorar especificamente 'cursos online de Python com foco em projetos práticos'**: Isso pode ajudar a identificar as tendências de aprendizado e as habilidades mais valorizadas no mercado.\n> 3.  **Acompanhar 'novos frameworks Python para web'**: O ecossistema Python está sempre evoluindo, e novos frameworks podem oferecer oportunidades interessantes.\n> \n> Proposta de Foco do Monitoramento: Cursos online de Python para análise de dados, inteligência artificial e desenvolvimento web, incluindo frameworks e projetos práticos.\n> \n> Quais seriam os Parâmetros Adicionais (ex: 'últimos 30 dias', 'comentários em blogs e fóruns', 'anúncios de novas vagas')?\n> \n"
          },
          "metadata": {}
        },
        {
          "output_type": "stream",
          "name": "stdout",
          "text": [
            "\n",
            "Confirme ou ajuste o 'Foco do Monitoramento' proposto acima: Cursos online de Python para análise de dados\n",
            "Confirme ou defina os 'Parâmetros Adicionais': comentários em blogs e fóruns\n",
            "\n",
            "Configuração final definida pelo usuário:\n",
            "Foco do Monitoramento: Cursos online de Python para análise de dados\n",
            "Parâmetros Adicionais: comentários em blogs e fóruns\n",
            "======================================================================\n",
            "\n",
            "--- 📊 Agente Coletor de Dados de Conteúdo (ACDC) em ação... ---\n"
          ]
        },
        {
          "output_type": "display_data",
          "data": {
            "text/plain": [
              "<IPython.core.display.Markdown object>"
            ],
            "text/markdown": "> **Dados Brutos Coletados pelo ACDC:**\n> Com base nas buscas realizadas sobre os cursos online da Alura de Python para análise de dados, focando em comentários em blogs e fóruns, aqui estão os principais pontos identificados:\n> \n> 1.  **Recomendação Geral:** Os cursos de Python da Alura são geralmente bem recomendados para quem busca uma formação e certificado reconhecidos no Brasil. Há menções de que o investimento vale a pena, considerando o acesso a diversos cursos na plataforma.\n> 2.  **Críticas sobre Data Science (2020):** Em 2020, alguns usuários expressaram insatisfação com os cursos de Data Science da Alura, apontando erros de explicação, falta de didática e suporte limitado no fórum.\n> 3.  **Atualização de Conteúdo:** Há relatos de cursos desatualizados, o que pode gerar frustração ao tentar replicar os exemplos. A Alura parece estar atenta a isso, com relatos de atualizações e novas formações.\n> 4.  **Python para Análise de Dados com SQL:** Há um curso específico que integra Python com SQL para análise de dados, ministrado por Mirla Costa, com boa avaliação (9.3) e certificado de participação.\n> 5.  **Importância de Python:** Python é apontada como uma linguagem versátil e fundamental para diversas áreas, incluindo análise de dados, marketing, finanças e recursos humanos.\n> 6.  **Comentários no Reddit:** Alguns usuários do Reddit criticaram os cursos da Alura como sendo focados em reprodução de código, sem aprofundamento em estatística e matemática. Outros enfatizam a importância de praticar lógica de programação e estrutura de dados, independentemente da linguagem.\n> 7.  **Imersão Python Alura:** A Alura promove imersões em Python, com lives e discussões sobre estratégias de carreira em análise de dados, mostrando a importância de portfólios e networking.\n> \n> As URLs fornecidas na pesquisa podem ser utilizadas para verificar as fontes e aprofundar a análise.\n> \n"
          },
          "metadata": {}
        },
        {
          "output_type": "stream",
          "name": "stdout",
          "text": [
            "======================================================================\n",
            "\n",
            "--- 💡 Agente Analista de Insights e Tendências (AAIT) em ação... ---\n"
          ]
        },
        {
          "output_type": "display_data",
          "data": {
            "text/plain": [
              "<IPython.core.display.Markdown object>"
            ],
            "text/markdown": "> **Análise e Insights do AAIT:**\n> ## Análise de Insights e Tendências - Cursos Python Alura (Análise de Dados)\n> \n> **Insights Prioritários:**\n> \n> 1.  **Urgência na Revisão de Conteúdo Data Science (2020):** As críticas de 2020 sobre os cursos de Data Science (erros, didática, suporte) são um ponto crítico. É imperativo investigar esses feedbacks específicos e realizar uma revisão/atualização completa desses cursos. A antiguidade dos comentários não diminui a necessidade de ação, pois ainda podem influenciar a percepção da qualidade do conteúdo.\n> 2.  **Foco na Atualização Contínua dos Cursos:** A percepção de cursos desatualizados é um risco constante. É essencial implementar um processo robusto de atualização contínua dos cursos, com um cronograma claro e comunicação transparente com os alunos sobre as atualizações realizadas. Isso garante a relevância do conteúdo e a satisfação dos alunos.\n> 3.  **Aprofundamento da Base Teórica (Estatística/Matemática):** As críticas no Reddit sobre a falta de aprofundamento em estatística e matemática indicam uma lacuna percebida por alguns alunos. Considerar a inclusão de módulos ou cursos complementares que abordem esses fundamentos de forma mais aprofundada pode aumentar o valor percebido dos cursos e atrair um público mais exigente.\n> \n> **Insights Adicionais e Decisões:**\n> \n> *   **Fortalecer a Imersão Python:** As imersões em Python são valiosas para engajamento e networking. Continuar investindo nessas iniciativas, com foco em temas relevantes para a carreira em análise de dados (portfólio, networking), pode fortalecer a comunidade e atrair novos alunos.\n> *   **Destacar Cursos Bem Avaliados:** O curso de Python com SQL ministrado por Mirla Costa é um ponto forte (avaliação 9.3). Promover esse curso de forma estratégica pode atrair alunos interessados em uma aplicação prática e bem avaliada de Python na análise de dados.\n> *   **Monitorar a Percepção da Relação Custo-Benefício:** A recomendação geral de que os cursos da Alura \"valem a pena\" é positiva. Monitorar continuamente essa percepção, garantindo que o valor entregue (qualidade do conteúdo, suporte, etc.) justifique o investimento, é fundamental para a retenção de alunos.\n> \n> Em resumo, a Alura deve focar em **corrigir deficiências passadas**, garantir a **atualização constante** do conteúdo, **aprofundar a base teórica** onde necessário e **capitalizar nos pontos fortes** para manter a relevância e a qualidade dos cursos de Python para análise de dados.\n> \n"
          },
          "metadata": {}
        },
        {
          "output_type": "stream",
          "name": "stdout",
          "text": [
            "======================================================================\n",
            "\n",
            "--- 🎯 Agente Recomendador de Ações Estratégicas (ARAE) em ação... ---\n"
          ]
        },
        {
          "output_type": "display_data",
          "data": {
            "text/plain": [
              "<IPython.core.display.Markdown object>"
            ],
            "text/markdown": "> **Ações Estratégicas Recomendadas pelo ARAE:**\n> Com base nos insights e decisões fornecidos, aqui estão 3 recomendações de ações estratégicas para as equipes de Conteúdo e Marketing da Alura, visando otimizar o conteúdo dos cursos de Python para análise de dados:\n> \n> 1.  **Recomendação:** Revisão e atualização prioritária dos cursos de Data Science de 2020.\n>     *   **Justificativa:** As críticas de 2020 (erros, didática, suporte) representam um risco para a reputação da Alura. Uma ação rápida e completa de revisão e atualização desses cursos é crucial para mitigar esse risco e demonstrar o compromisso da Alura com a qualidade. O Marketing deve comunicar essa atualização aos alunos antigos e potenciais, destacando as melhorias implementadas.\n> 2.  **Recomendação:** Criação de conteúdo complementar ou módulos adicionais focados em estatística e matemática para análise de dados.\n>     *   **Justificativa:** A percepção de falta de aprofundamento teórico em estatística e matemática pode afastar alunos mais exigentes. Oferecer conteúdo complementar ou módulos adicionais sobre esses temas pode aumentar o valor percebido dos cursos e atrair um público mais amplo. O Marketing pode promover esse conteúdo como um diferencial dos cursos da Alura.\n> 3.  **Recomendação:** Promoção estratégica do curso de Python com SQL ministrado por Mirla Costa (avaliação 9.3).\n>     *   **Justificativa:** A alta avaliação desse curso indica um ponto forte que deve ser capitalizado. O Marketing deve criar campanhas específicas para promover esse curso, destacando a aplicação prática de Python com SQL e a qualidade da instrutora. A equipe de Conteúdo pode considerar a criação de um conteúdo de \"degustação\" para mostrar o valor do curso.\n> \n"
          },
          "metadata": {}
        },
        {
          "output_type": "stream",
          "name": "stdout",
          "text": [
            "======================================================================\n",
            "\n",
            "🎉 Processo SAMOC concluído! 🎉\n",
            "----------------------------------------------------------------------\n",
            "Deseja rodar o processo SAMOC novamente? (s/n): S\n",
            "\n",
            "🔄 Reiniciando o processo SAMOC... 🔄\n",
            "======================================================================\n",
            "--- 🚀 Agente Estrategista de Configuração (AEC) ---\n",
            "Olá! Sou o AEC. Qual sua ideia inicial para o foco do monitoramento de conteúdo hoje? \n",
            "(Ex: 'cursos de Python', 'IA Generativa', 'engajamento no Instagram'): IA Generativa\n",
            "\n",
            "--- ⚙️ Sugestão do Agente Estrategista de Configuração (AEC) ---\n"
          ]
        },
        {
          "output_type": "display_data",
          "data": {
            "text/plain": [
              "<IPython.core.display.Markdown object>"
            ],
            "text/markdown": "> Com base na sua ideia de 'IA Generativa', vejo que é um tópico extremamente relevante e em rápida evolução. Há muitas discussões recentes sobre modelos como o GPT-4, novas aplicações em diversas áreas e também debates sobre ética e impacto social.\n> \n> Sugestões para refinar o foco:\n> \n> 1.  **Focar em 'Aplicações da IA Generativa em [setor específico]'**: Escolher um setor como educação, saúde, finanças ou marketing e monitorar como a IA generativa está sendo aplicada e quais os resultados.\n> 2.  **Monitorar 'Ética e desafios da IA Generativa'**: Acompanhar discussões sobre vieses nos modelos, desinformação e o impacto no mercado de trabalho.\n> 3.  **Acompanhar 'Novas ferramentas e frameworks de IA Generativa'**: Ficar por dentro de novas plataformas e bibliotecas que estão surgindo para facilitar o desenvolvimento e uso de IA generativa.\n> \n> Para verificar a relevância e tendências atuais, vou realizar algumas buscas:\n> \n> As buscas indicam que a IA Generativa é um campo dinâmico com tendências importantes para 2025:\n> \n> *   **Expansão e Adoção:** A IA generativa está se expandindo para diversas áreas, desde marketing e design até saúde e educação, com ferramentas se tornando mais acessíveis e fáceis de usar.\n> *   **Ética e Responsabilidade:** Há uma crescente preocupação com o uso ético da IA generativa, incluindo questões de viés, privacidade e transparência.\n> *   **Foco no Retorno sobre o Investimento (ROI):** Empresas estão buscando maneiras de obter valor real e mensurável de seus investimentos em IA generativa.\n> \n> Com base nessas informações, proponho o seguinte:\n> \n> **Proposta de Foco do Monitoramento:** \"Aplicações e Implicações da IA Generativa em [Setor Específico]\".\n> \n> Para refinar ainda mais, qual setor específico te interessa mais? (ex: educação, saúde, finanças, etc.)\n> \n> Quais seriam os Parâmetros Adicionais? (ex: \"últimos 3 meses\", \"notícias, artigos científicos e posts em redes sociais\", etc.)\n> \n"
          },
          "metadata": {}
        },
        {
          "output_type": "stream",
          "name": "stdout",
          "text": [
            "\n",
            "Confirme ou ajuste o 'Foco do Monitoramento' proposto acima: Aplicações e Implicações da IA Generativa na Educação\n",
            "Confirme ou defina os 'Parâmetros Adicionais': 3 meses\n",
            "\n",
            "Configuração final definida pelo usuário:\n",
            "Foco do Monitoramento: Aplicações e Implicações da IA Generativa na Educação\n",
            "Parâmetros Adicionais: 3 meses\n",
            "======================================================================\n",
            "\n",
            "--- 📊 Agente Coletor de Dados de Conteúdo (ACDC) em ação... ---\n"
          ]
        },
        {
          "output_type": "display_data",
          "data": {
            "text/plain": [
              "<IPython.core.display.Markdown object>"
            ],
            "text/markdown": "> **Dados Brutos Coletados pelo ACDC:**\n> Aqui estão os dados coletados sobre as aplicações e implicações da IA Generativa na educação nos últimos 3 meses:\n> \n>  \n> Com base nos resultados da pesquisa, aqui estão os principais pontos sobre as aplicações e implicações da IA Generativa na educação, com foco no conteúdo da Alura e em iniciativas relacionadas:\n> \n>  1. **Cursos e Formações em IA Generativa:** A Alura oferece diversos cursos e formações focados em IA Generativa, incluindo o uso de ferramentas como ChatGPT, Midjourney e LangChain. Há cursos desde o nível introdutório até formações mais avançadas para desenvolvedores.\n>  2. **Parceria Alura e Google (Imersão IA):** A Alura, em parceria com o Google, lançou a \"Imersão IA\", um curso online e gratuito com o objetivo de capacitar profissionais no uso de ferramentas de IA do Google, como o Gemini. Este curso tem como foco projetos práticos e aplicáveis no dia a dia profissional.\n>  3. **IA para Personalização do Aprendizado:** A IA Generativa é utilizada para personalizar o conteúdo educacional, adaptando materiais de aprendizado ao estilo de cada aluno. Isso pode otimizar a compreensão e retenção do conteúdo.\n>  4. **Automação e Eficiência para Educadores:** A IA auxilia na automação de tarefas repetitivas, como correção de exercícios e criação de materiais didáticos, liberando os professores para se concentrarem no ensino e no apoio individualizado aos alunos.\n>  5. **Desafios Éticos e Riscos:** A pesquisa também aponta para a necessidade de abordar os desafios éticos e os riscos associados à IA generativa na educação, incluindo questões de privacidade de dados e viés nos conteúdos gerados.\n>  6. **Assistentes Virtuais e Tutoria:** A IA generativa pode ser utilizada para criar assistentes virtuais e ambientes de tutoria, fornecendo suporte e feedback em tempo real para os alunos.\n>  7. **Alura e a Luri:** A Alura utiliza a Luri, uma IA educacional própria, para auxiliar os alunos, tirando dúvidas e oferecendo exemplos práticos.\n"
          },
          "metadata": {}
        },
        {
          "output_type": "stream",
          "name": "stdout",
          "text": [
            "======================================================================\n",
            "\n",
            "--- 💡 Agente Analista de Insights e Tendências (AAIT) em ação... ---\n"
          ]
        },
        {
          "output_type": "display_data",
          "data": {
            "text/plain": [
              "<IPython.core.display.Markdown object>"
            ],
            "text/markdown": "> **Análise e Insights do AAIT:**\n> ## Análise de Dados: IA Generativa na Educação (Alura)\n> \n> Com base nos dados fornecidos, aqui estão os principais insights e decisões prioritárias para a Alura:\n> \n> **1. Oportunidade de Ouro: Expansão e Aprofundamento em IA Generativa:**\n> \n> *   **Insight:** A forte presença da Alura em cursos e formações de IA Generativa, juntamente com a parceria com o Google (Imersão IA), indica um grande interesse e demanda por este tópico.\n> *   **Decisão Prioritária:** Investir em aprofundar e expandir a oferta de cursos e formações em IA Generativa. Isso inclui:\n>     *   Criar trilhas de aprendizado mais especializadas em áreas específicas da IA Generativa.\n>     *   Explorar novas parcerias estratégicas com empresas líderes em IA.\n>     *   Promover ativamente os cursos existentes e novos para atrair um público ainda maior.\n> \n> **2. Potencializar a Luri para Personalização e Engajamento:**\n> \n> *   **Insight:** A utilização da Luri como IA educacional própria demonstra o potencial da Alura em oferecer aprendizado personalizado.\n> *   **Decisão Prioritária:** Ampliar as funcionalidades da Luri, focando em:\n>     *   Personalização do conteúdo com base no perfil de aprendizado do aluno.\n>     *   Oferecer feedback individualizado e suporte em tempo real.\n>     *   Integrar a Luri em mais cursos e formações, tornando-a uma ferramenta central na experiência de aprendizado da Alura.\n> \n> **3. Atenção aos Desafios Éticos e Responsabilidade:**\n> \n> *   **Insight:** A pesquisa aponta para a importância de abordar os desafios éticos e riscos da IA Generativa, como privacidade de dados e vieses.\n> *   **Decisão Prioritária:** Desenvolver e integrar módulos ou cursos que abordem a ética e o uso responsável da IA Generativa. Isso demonstra o compromisso da Alura com a formação de profissionais conscientes e responsáveis.\n> \n> **4. Foco em Automação e Eficiência para Educadores:**\n> \n> *   **Insight:** A IA Generativa pode auxiliar na automação de tarefas para educadores.\n> *   **Decisão:** Desenvolver e promover ferramentas baseadas em IA que auxiliem educadores na criação de conteúdo, correção de atividades e outras tarefas, otimizando o tempo e a qualidade do ensino.\n"
          },
          "metadata": {}
        },
        {
          "output_type": "stream",
          "name": "stdout",
          "text": [
            "======================================================================\n",
            "\n",
            "--- 🎯 Agente Recomendador de Ações Estratégicas (ARAE) em ação... ---\n"
          ]
        },
        {
          "output_type": "display_data",
          "data": {
            "text/plain": [
              "<IPython.core.display.Markdown object>"
            ],
            "text/markdown": "> **Ações Estratégicas Recomendadas pelo ARAE:**\n> Com base nos insights e decisões do AAIT, apresento as seguintes recomendações de ações estratégicas para as equipes de Conteúdo e Marketing da Alura:\n> \n> **1. Ação Estratégica: Criação de Conteúdo Especializado e Trilha de Carreira em IA Generativa**\n> \n> *   **Recomendação:** A equipe de Conteúdo deve priorizar a criação de cursos e formações especializadas em áreas específicas de IA Generativa, como processamento de linguagem natural (PLN), visão computacional e geração de imagens. Além disso, criar uma trilha de carreira completa em IA Generativa, guiando os alunos desde os fundamentos até o nível avançado.\n> *   **Justificativa:** O insight #1 aponta para uma forte demanda por conhecimento em IA Generativa. Uma trilha bem estruturada atrairá mais alunos e consolidará a Alura como referência no tema. A equipe de Marketing pode promover essa trilha de carreira com foco nos resultados práticos e oportunidades de emprego na área.\n> \n> **2. Ação Estratégica: Posts de Blog e Redes Sociais sobre Ética e Responsabilidade em IA Generativa**\n> \n> *   **Recomendação:** A equipe de Marketing deve criar posts de blog e conteúdo para redes sociais abordando os desafios éticos e o uso responsável da IA Generativa, como privacidade de dados, vieses algorítmicos e impacto social.\n> *   **Justificativa:** O insight #3 ressalta a importância da ética em IA. Ao abordar esses temas, a Alura demonstra seu compromisso com a formação de profissionais conscientes e responsáveis, o que pode atrair alunos que valorizam essa abordagem.\n> \n> **3. Ação Estratégica: Promoção da Luri como Ferramenta de Aprendizado Personalizado e Eficaz**\n> \n> *   **Recomendação:** A equipe de Marketing deve intensificar a promoção da Luri, destacando seus benefícios como ferramenta de aprendizado personalizado e eficaz. Produzir depoimentos de alunos que utilizam a Luri e ressaltar como ela os ajuda a alcançar seus objetivos de aprendizado.\n> *   **Justificativa:** O insight #2 aponta para o potencial da Luri como diferencial da Alura. Uma campanha de marketing focada nos benefícios da Luri pode atrair alunos que buscam uma experiência de aprendizado mais personalizada e adaptada às suas necessidades.\n> \n> \n"
          },
          "metadata": {}
        },
        {
          "output_type": "stream",
          "name": "stdout",
          "text": [
            "======================================================================\n",
            "\n",
            "🎉 Processo SAMOC concluído! 🎉\n",
            "----------------------------------------------------------------------\n"
          ]
        }
      ]
    },
    {
      "cell_type": "markdown",
      "source": [
        "# Nova seção"
      ],
      "metadata": {
        "id": "iY94ftq3GdlJ"
      }
    }
  ]
}